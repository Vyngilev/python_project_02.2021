{
 "cells": [
  {
   "cell_type": "code",
   "execution_count": 1,
   "id": "initial_id",
   "metadata": {
    "ExecuteTime": {
     "end_time": "2024-02-13T17:46:44.915165100Z",
     "start_time": "2024-02-13T17:46:44.423628900Z"
    }
   },
   "outputs": [],
   "source": [
    "import pandas as pd\n",
    "import numpy as np\n",
    "import matplotlib as plt"
   ]
  },
  {
   "cell_type": "code",
   "execution_count": 2,
   "id": "f93c815b7f89d40",
   "metadata": {
    "collapsed": false,
    "jupyter": {
     "outputs_hidden": false
    }
   },
   "outputs": [
    {
     "data": {
      "text/plain": [
       "['monday', 'tuesday', 'wenesday', 'thursday', 'friday', 'saturday', 'sunday']"
      ]
     },
     "execution_count": 2,
     "metadata": {},
     "output_type": "execute_result"
    }
   ],
   "source": [
    "python_series = ['monday', 'tuesday', 'wenesday', 'thursday', 'friday', 'saturday', 'sunday']\n",
    "python_series"
   ]
  },
  {
   "cell_type": "code",
   "execution_count": 3,
   "id": "48ccefa9-4a15-4d07-be3a-2ed0e8026419",
   "metadata": {},
   "outputs": [
    {
     "data": {
      "text/plain": [
       "1 day      monday\n",
       "2 day     tuesday\n",
       "3 day    wenesday\n",
       "4 day    thursday\n",
       "5 day      friday\n",
       "6 day    saturday\n",
       "7 day      sunday\n",
       "dtype: object"
      ]
     },
     "execution_count": 3,
     "metadata": {},
     "output_type": "execute_result"
    }
   ],
   "source": [
    "test_series = pd.Series(python_series, index=['1 day','2 day','3 day','4 day','5 day','6 day','7 day'])\n",
    "test_series"
   ]
  },
  {
   "cell_type": "code",
   "execution_count": 6,
   "id": "46cf0a4c-b430-4419-9d6e-18bce8896217",
   "metadata": {},
   "outputs": [
    {
     "data": {
      "text/plain": [
       "'monday'"
      ]
     },
     "execution_count": 6,
     "metadata": {},
     "output_type": "execute_result"
    }
   ],
   "source": [
    "test_series['1 day']"
   ]
  },
  {
   "cell_type": "code",
   "execution_count": 10,
   "id": "bec5a1f2-e973-49ce-a3d5-14aa77080838",
   "metadata": {},
   "outputs": [
    {
     "data": {
      "text/html": [
       "<div>\n",
       "<style scoped>\n",
       "    .dataframe tbody tr th:only-of-type {\n",
       "        vertical-align: middle;\n",
       "    }\n",
       "\n",
       "    .dataframe tbody tr th {\n",
       "        vertical-align: top;\n",
       "    }\n",
       "\n",
       "    .dataframe thead th {\n",
       "        text-align: right;\n",
       "    }\n",
       "</style>\n",
       "<table border=\"1\" class=\"dataframe\">\n",
       "  <thead>\n",
       "    <tr style=\"text-align: right;\">\n",
       "      <th></th>\n",
       "      <th>Name of day</th>\n",
       "      <th>Type of day</th>\n",
       "    </tr>\n",
       "  </thead>\n",
       "  <tbody>\n",
       "    <tr>\n",
       "      <th>0</th>\n",
       "      <td>monday</td>\n",
       "      <td>working</td>\n",
       "    </tr>\n",
       "    <tr>\n",
       "      <th>1</th>\n",
       "      <td>tuesday</td>\n",
       "      <td>working</td>\n",
       "    </tr>\n",
       "    <tr>\n",
       "      <th>2</th>\n",
       "      <td>wenesday</td>\n",
       "      <td>working</td>\n",
       "    </tr>\n",
       "    <tr>\n",
       "      <th>3</th>\n",
       "      <td>thursday</td>\n",
       "      <td>working</td>\n",
       "    </tr>\n",
       "    <tr>\n",
       "      <th>4</th>\n",
       "      <td>friday</td>\n",
       "      <td>working</td>\n",
       "    </tr>\n",
       "    <tr>\n",
       "      <th>5</th>\n",
       "      <td>saturday</td>\n",
       "      <td>holiday</td>\n",
       "    </tr>\n",
       "    <tr>\n",
       "      <th>6</th>\n",
       "      <td>sunday</td>\n",
       "      <td>holiday</td>\n",
       "    </tr>\n",
       "  </tbody>\n",
       "</table>\n",
       "</div>"
      ],
      "text/plain": [
       "  Name of day Type of day\n",
       "0      monday     working\n",
       "1     tuesday     working\n",
       "2    wenesday     working\n",
       "3    thursday     working\n",
       "4      friday     working\n",
       "5    saturday     holiday\n",
       "6      sunday     holiday"
      ]
     },
     "execution_count": 10,
     "metadata": {},
     "output_type": "execute_result"
    }
   ],
   "source": [
    "df = pd.DataFrame({\n",
    "    'Name of day': python_series,\n",
    "    'Type of day': ['working', 'working', 'working', 'working', 'working', 'holiday', 'holiday']\n",
    "})\n",
    "df"
   ]
  },
  {
   "cell_type": "code",
   "execution_count": 12,
   "id": "1f2dbf8b-2ad6-468c-85a4-2f5e21979cc9",
   "metadata": {},
   "outputs": [
    {
     "data": {
      "text/html": [
       "<div>\n",
       "<style scoped>\n",
       "    .dataframe tbody tr th:only-of-type {\n",
       "        vertical-align: middle;\n",
       "    }\n",
       "\n",
       "    .dataframe tbody tr th {\n",
       "        vertical-align: top;\n",
       "    }\n",
       "\n",
       "    .dataframe thead th {\n",
       "        text-align: right;\n",
       "    }\n",
       "</style>\n",
       "<table border=\"1\" class=\"dataframe\">\n",
       "  <thead>\n",
       "    <tr style=\"text-align: right;\">\n",
       "      <th></th>\n",
       "      <th>sales_id</th>\n",
       "      <th>time_id</th>\n",
       "      <th>product_id</th>\n",
       "      <th>region_id</th>\n",
       "      <th>transaction_amount</th>\n",
       "    </tr>\n",
       "  </thead>\n",
       "  <tbody>\n",
       "    <tr>\n",
       "      <th>0</th>\n",
       "      <td>4</td>\n",
       "      <td>868</td>\n",
       "      <td>227</td>\n",
       "      <td>154</td>\n",
       "      <td>-39864</td>\n",
       "    </tr>\n",
       "    <tr>\n",
       "      <th>1</th>\n",
       "      <td>5</td>\n",
       "      <td>436</td>\n",
       "      <td>684</td>\n",
       "      <td>724</td>\n",
       "      <td>79272</td>\n",
       "    </tr>\n",
       "    <tr>\n",
       "      <th>2</th>\n",
       "      <td>6</td>\n",
       "      <td>529</td>\n",
       "      <td>176</td>\n",
       "      <td>478</td>\n",
       "      <td>-33632</td>\n",
       "    </tr>\n",
       "    <tr>\n",
       "      <th>3</th>\n",
       "      <td>7</td>\n",
       "      <td>146</td>\n",
       "      <td>16</td>\n",
       "      <td>891</td>\n",
       "      <td>87806</td>\n",
       "    </tr>\n",
       "    <tr>\n",
       "      <th>4</th>\n",
       "      <td>8</td>\n",
       "      <td>483</td>\n",
       "      <td>657</td>\n",
       "      <td>790</td>\n",
       "      <td>98243</td>\n",
       "    </tr>\n",
       "  </tbody>\n",
       "</table>\n",
       "</div>"
      ],
      "text/plain": [
       "   sales_id  time_id  product_id  region_id  transaction_amount\n",
       "0         4      868         227        154              -39864\n",
       "1         5      436         684        724               79272\n",
       "2         6      529         176        478              -33632\n",
       "3         7      146          16        891               87806\n",
       "4         8      483         657        790               98243"
      ]
     },
     "execution_count": 12,
     "metadata": {},
     "output_type": "execute_result"
    }
   ],
   "source": [
    "sales = pd.read_csv('!Study/sales.csv')\n",
    "sales.head()"
   ]
  },
  {
   "cell_type": "code",
   "execution_count": 13,
   "id": "3776178a-13d3-4803-9320-73d9cd25e743",
   "metadata": {},
   "outputs": [],
   "source": [
    "products = pd.read_csv('!Study/products.csv')\n",
    "time = pd.read_csv('!Study/time.csv')"
   ]
  },
  {
   "cell_type": "code",
   "execution_count": 14,
   "id": "bf9677a8-7fb3-47f7-b2ef-2113a6b91698",
   "metadata": {},
   "outputs": [
    {
     "name": "stdout",
     "output_type": "stream",
     "text": [
      "<class 'pandas.core.frame.DataFrame'>\n",
      "RangeIndex: 1000 entries, 0 to 999\n",
      "Data columns (total 5 columns):\n",
      " #   Column              Non-Null Count  Dtype\n",
      "---  ------              --------------  -----\n",
      " 0   sales_id            1000 non-null   int64\n",
      " 1   time_id             1000 non-null   int64\n",
      " 2   product_id          1000 non-null   int64\n",
      " 3   region_id           1000 non-null   int64\n",
      " 4   transaction_amount  1000 non-null   int64\n",
      "dtypes: int64(5)\n",
      "memory usage: 39.2 KB\n"
     ]
    }
   ],
   "source": [
    "sales.info()"
   ]
  },
  {
   "cell_type": "code",
   "execution_count": 15,
   "id": "2534315a-2c2a-45a4-939e-40a5e0d24efb",
   "metadata": {},
   "outputs": [
    {
     "data": {
      "text/plain": [
       "Index(['sales_id', 'time_id', 'product_id', 'region_id', 'transaction_amount'], dtype='object')"
      ]
     },
     "execution_count": 15,
     "metadata": {},
     "output_type": "execute_result"
    }
   ],
   "source": [
    "sales.columns"
   ]
  },
  {
   "cell_type": "code",
   "execution_count": 16,
   "id": "e651c276-fdad-4bf2-a8be-e82f95cf4e64",
   "metadata": {},
   "outputs": [
    {
     "data": {
      "text/plain": [
       "0     -39864\n",
       "1      79272\n",
       "2     -33632\n",
       "3      87806\n",
       "4      98243\n",
       "       ...  \n",
       "995    94708\n",
       "996   -68442\n",
       "997    69121\n",
       "998    53607\n",
       "999    83106\n",
       "Name: transaction_amount, Length: 1000, dtype: int64"
      ]
     },
     "execution_count": 16,
     "metadata": {},
     "output_type": "execute_result"
    }
   ],
   "source": [
    "sales['transaction_amount']"
   ]
  },
  {
   "cell_type": "code",
   "execution_count": 17,
   "id": "8010ca7d-d528-4525-a993-2646fbeca537",
   "metadata": {},
   "outputs": [
    {
     "data": {
      "text/html": [
       "<div>\n",
       "<style scoped>\n",
       "    .dataframe tbody tr th:only-of-type {\n",
       "        vertical-align: middle;\n",
       "    }\n",
       "\n",
       "    .dataframe tbody tr th {\n",
       "        vertical-align: top;\n",
       "    }\n",
       "\n",
       "    .dataframe thead th {\n",
       "        text-align: right;\n",
       "    }\n",
       "</style>\n",
       "<table border=\"1\" class=\"dataframe\">\n",
       "  <thead>\n",
       "    <tr style=\"text-align: right;\">\n",
       "      <th></th>\n",
       "      <th>sales_id</th>\n",
       "      <th>time_id</th>\n",
       "      <th>product_id</th>\n",
       "      <th>region_id</th>\n",
       "      <th>transaction_amount</th>\n",
       "    </tr>\n",
       "  </thead>\n",
       "  <tbody>\n",
       "    <tr>\n",
       "      <th>382</th>\n",
       "      <td>386</td>\n",
       "      <td>623</td>\n",
       "      <td>108</td>\n",
       "      <td>848</td>\n",
       "      <td>8046</td>\n",
       "    </tr>\n",
       "    <tr>\n",
       "      <th>67</th>\n",
       "      <td>71</td>\n",
       "      <td>479</td>\n",
       "      <td>956</td>\n",
       "      <td>702</td>\n",
       "      <td>8053</td>\n",
       "    </tr>\n",
       "    <tr>\n",
       "      <th>762</th>\n",
       "      <td>766</td>\n",
       "      <td>974</td>\n",
       "      <td>769</td>\n",
       "      <td>915</td>\n",
       "      <td>8123</td>\n",
       "    </tr>\n",
       "    <tr>\n",
       "      <th>251</th>\n",
       "      <td>255</td>\n",
       "      <td>531</td>\n",
       "      <td>156</td>\n",
       "      <td>925</td>\n",
       "      <td>8227</td>\n",
       "    </tr>\n",
       "    <tr>\n",
       "      <th>86</th>\n",
       "      <td>90</td>\n",
       "      <td>202</td>\n",
       "      <td>200</td>\n",
       "      <td>748</td>\n",
       "      <td>8700</td>\n",
       "    </tr>\n",
       "    <tr>\n",
       "      <th>...</th>\n",
       "      <td>...</td>\n",
       "      <td>...</td>\n",
       "      <td>...</td>\n",
       "      <td>...</td>\n",
       "      <td>...</td>\n",
       "    </tr>\n",
       "    <tr>\n",
       "      <th>178</th>\n",
       "      <td>182</td>\n",
       "      <td>908</td>\n",
       "      <td>786</td>\n",
       "      <td>16</td>\n",
       "      <td>98752</td>\n",
       "    </tr>\n",
       "    <tr>\n",
       "      <th>881</th>\n",
       "      <td>885</td>\n",
       "      <td>563</td>\n",
       "      <td>89</td>\n",
       "      <td>721</td>\n",
       "      <td>98761</td>\n",
       "    </tr>\n",
       "    <tr>\n",
       "      <th>772</th>\n",
       "      <td>776</td>\n",
       "      <td>82</td>\n",
       "      <td>954</td>\n",
       "      <td>159</td>\n",
       "      <td>98843</td>\n",
       "    </tr>\n",
       "    <tr>\n",
       "      <th>534</th>\n",
       "      <td>538</td>\n",
       "      <td>22</td>\n",
       "      <td>308</td>\n",
       "      <td>737</td>\n",
       "      <td>99651</td>\n",
       "    </tr>\n",
       "    <tr>\n",
       "      <th>38</th>\n",
       "      <td>42</td>\n",
       "      <td>139</td>\n",
       "      <td>83</td>\n",
       "      <td>400</td>\n",
       "      <td>99709</td>\n",
       "    </tr>\n",
       "  </tbody>\n",
       "</table>\n",
       "<p>453 rows × 5 columns</p>\n",
       "</div>"
      ],
      "text/plain": [
       "     sales_id  time_id  product_id  region_id  transaction_amount\n",
       "382       386      623         108        848                8046\n",
       "67         71      479         956        702                8053\n",
       "762       766      974         769        915                8123\n",
       "251       255      531         156        925                8227\n",
       "86         90      202         200        748                8700\n",
       "..        ...      ...         ...        ...                 ...\n",
       "178       182      908         786         16               98752\n",
       "881       885      563          89        721               98761\n",
       "772       776       82         954        159               98843\n",
       "534       538       22         308        737               99651\n",
       "38         42      139          83        400               99709\n",
       "\n",
       "[453 rows x 5 columns]"
      ]
     },
     "execution_count": 17,
     "metadata": {},
     "output_type": "execute_result"
    }
   ],
   "source": [
    "sales[sales['transaction_amount'] >= 8000].sort_values('transaction_amount')"
   ]
  },
  {
   "cell_type": "code",
   "execution_count": 19,
   "id": "a107fc5a-85bc-4b3d-8857-44109f18e74e",
   "metadata": {},
   "outputs": [
    {
     "data": {
      "text/html": [
       "<div>\n",
       "<style scoped>\n",
       "    .dataframe tbody tr th:only-of-type {\n",
       "        vertical-align: middle;\n",
       "    }\n",
       "\n",
       "    .dataframe tbody tr th {\n",
       "        vertical-align: top;\n",
       "    }\n",
       "\n",
       "    .dataframe thead th {\n",
       "        text-align: right;\n",
       "    }\n",
       "</style>\n",
       "<table border=\"1\" class=\"dataframe\">\n",
       "  <thead>\n",
       "    <tr style=\"text-align: right;\">\n",
       "      <th></th>\n",
       "      <th>product_id</th>\n",
       "      <th>product_name</th>\n",
       "      <th>product_description</th>\n",
       "    </tr>\n",
       "  </thead>\n",
       "  <tbody>\n",
       "    <tr>\n",
       "      <th>4</th>\n",
       "      <td>5</td>\n",
       "      <td>Cheese Cloth No 60</td>\n",
       "      <td>NaN</td>\n",
       "    </tr>\n",
       "    <tr>\n",
       "      <th>6</th>\n",
       "      <td>7</td>\n",
       "      <td>Cinnamon Buns Sticky</td>\n",
       "      <td>NaN</td>\n",
       "    </tr>\n",
       "    <tr>\n",
       "      <th>8</th>\n",
       "      <td>9</td>\n",
       "      <td>Chicken - Bones</td>\n",
       "      <td>NaN</td>\n",
       "    </tr>\n",
       "    <tr>\n",
       "      <th>16</th>\n",
       "      <td>17</td>\n",
       "      <td>Corn Kernels - Frozen</td>\n",
       "      <td>NaN</td>\n",
       "    </tr>\n",
       "    <tr>\n",
       "      <th>21</th>\n",
       "      <td>22</td>\n",
       "      <td>Chips - Potato Jalapeno</td>\n",
       "      <td>NaN</td>\n",
       "    </tr>\n",
       "    <tr>\n",
       "      <th>...</th>\n",
       "      <td>...</td>\n",
       "      <td>...</td>\n",
       "      <td>...</td>\n",
       "    </tr>\n",
       "    <tr>\n",
       "      <th>978</th>\n",
       "      <td>979</td>\n",
       "      <td>Coffee - Beans, Whole</td>\n",
       "      <td>NaN</td>\n",
       "    </tr>\n",
       "    <tr>\n",
       "      <th>982</th>\n",
       "      <td>983</td>\n",
       "      <td>Calaloo</td>\n",
       "      <td>NaN</td>\n",
       "    </tr>\n",
       "    <tr>\n",
       "      <th>986</th>\n",
       "      <td>987</td>\n",
       "      <td>Tuna - Salad Premix</td>\n",
       "      <td>NaN</td>\n",
       "    </tr>\n",
       "    <tr>\n",
       "      <th>987</th>\n",
       "      <td>988</td>\n",
       "      <td>Tomatoes - Yellow Hot House</td>\n",
       "      <td>NaN</td>\n",
       "    </tr>\n",
       "    <tr>\n",
       "      <th>990</th>\n",
       "      <td>991</td>\n",
       "      <td>Chestnuts - Whole,canned</td>\n",
       "      <td>NaN</td>\n",
       "    </tr>\n",
       "  </tbody>\n",
       "</table>\n",
       "<p>219 rows × 3 columns</p>\n",
       "</div>"
      ],
      "text/plain": [
       "     product_id                 product_name  product_description\n",
       "4             5           Cheese Cloth No 60                  NaN\n",
       "6             7         Cinnamon Buns Sticky                  NaN\n",
       "8             9              Chicken - Bones                  NaN\n",
       "16           17        Corn Kernels - Frozen                  NaN\n",
       "21           22      Chips - Potato Jalapeno                  NaN\n",
       "..          ...                          ...                  ...\n",
       "978         979        Coffee - Beans, Whole                  NaN\n",
       "982         983                      Calaloo                  NaN\n",
       "986         987          Tuna - Salad Premix                  NaN\n",
       "987         988  Tomatoes - Yellow Hot House                  NaN\n",
       "990         991     Chestnuts - Whole,canned                  NaN\n",
       "\n",
       "[219 rows x 3 columns]"
      ]
     },
     "execution_count": 19,
     "metadata": {},
     "output_type": "execute_result"
    }
   ],
   "source": [
    "products[(products['product_name'].str.contains('^C')) | (products['product_name'].str.contains('^T'))]"
   ]
  },
  {
   "cell_type": "code",
   "execution_count": null,
   "id": "9ce793cc-5be3-4acf-9602-d76138d8056f",
   "metadata": {},
   "outputs": [],
   "source": []
  }
 ],
 "metadata": {
  "kernelspec": {
   "display_name": "Python 3 (ipykernel)",
   "language": "python",
   "name": "python3"
  },
  "language_info": {
   "codemirror_mode": {
    "name": "ipython",
    "version": 3
   },
   "file_extension": ".py",
   "mimetype": "text/x-python",
   "name": "python",
   "nbconvert_exporter": "python",
   "pygments_lexer": "ipython3",
   "version": "3.11.4"
  }
 },
 "nbformat": 4,
 "nbformat_minor": 5
}
