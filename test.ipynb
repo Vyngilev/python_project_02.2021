{
 "cells": [
  {
   "cell_type": "code",
   "execution_count": 1,
   "id": "initial_id",
   "metadata": {
    "ExecuteTime": {
     "end_time": "2024-02-13T17:46:44.915165100Z",
     "start_time": "2024-02-13T17:46:44.423628900Z"
    }
   },
   "outputs": [],
   "source": [
    "import pandas as pd\n",
    "import numpy as np\n",
    "import matplotlib as plt"
   ]
  },
  {
   "cell_type": "code",
   "execution_count": 2,
   "id": "f93c815b7f89d40",
   "metadata": {
    "collapsed": false,
    "jupyter": {
     "outputs_hidden": false
    }
   },
   "outputs": [
    {
     "data": {
      "text/plain": [
       "['monday', 'tuesday', 'wenesday', 'thursday', 'friday', 'saturday', 'sunday']"
      ]
     },
     "execution_count": 2,
     "metadata": {},
     "output_type": "execute_result"
    }
   ],
   "source": [
    "python_series = ['monday', 'tuesday', 'wenesday', 'thursday', 'friday', 'saturday', 'sunday']\n",
    "python_series"
   ]
  },
  {
   "cell_type": "code",
   "execution_count": 3,
   "id": "48ccefa9-4a15-4d07-be3a-2ed0e8026419",
   "metadata": {},
   "outputs": [
    {
     "data": {
      "text/plain": [
       "1 day      monday\n",
       "2 day     tuesday\n",
       "3 day    wenesday\n",
       "4 day    thursday\n",
       "5 day      friday\n",
       "6 day    saturday\n",
       "7 day      sunday\n",
       "dtype: object"
      ]
     },
     "execution_count": 3,
     "metadata": {},
     "output_type": "execute_result"
    }
   ],
   "source": [
    "test_series = pd.Series(python_series, index=['1 day','2 day','3 day','4 day','5 day','6 day','7 day'])\n",
    "test_series"
   ]
  },
  {
   "cell_type": "code",
   "execution_count": 6,
   "id": "46cf0a4c-b430-4419-9d6e-18bce8896217",
   "metadata": {},
   "outputs": [
    {
     "data": {
      "text/plain": [
       "'monday'"
      ]
     },
     "execution_count": 6,
     "metadata": {},
     "output_type": "execute_result"
    }
   ],
   "source": [
    "test_series['1 day']"
   ]
  },
  {
   "cell_type": "code",
   "execution_count": 10,
   "id": "bec5a1f2-e973-49ce-a3d5-14aa77080838",
   "metadata": {},
   "outputs": [
    {
     "data": {
      "text/html": [
       "<div>\n",
       "<style scoped>\n",
       "    .dataframe tbody tr th:only-of-type {\n",
       "        vertical-align: middle;\n",
       "    }\n",
       "\n",
       "    .dataframe tbody tr th {\n",
       "        vertical-align: top;\n",
       "    }\n",
       "\n",
       "    .dataframe thead th {\n",
       "        text-align: right;\n",
       "    }\n",
       "</style>\n",
       "<table border=\"1\" class=\"dataframe\">\n",
       "  <thead>\n",
       "    <tr style=\"text-align: right;\">\n",
       "      <th></th>\n",
       "      <th>Name of day</th>\n",
       "      <th>Type of day</th>\n",
       "    </tr>\n",
       "  </thead>\n",
       "  <tbody>\n",
       "    <tr>\n",
       "      <th>0</th>\n",
       "      <td>monday</td>\n",
       "      <td>working</td>\n",
       "    </tr>\n",
       "    <tr>\n",
       "      <th>1</th>\n",
       "      <td>tuesday</td>\n",
       "      <td>working</td>\n",
       "    </tr>\n",
       "    <tr>\n",
       "      <th>2</th>\n",
       "      <td>wenesday</td>\n",
       "      <td>working</td>\n",
       "    </tr>\n",
       "    <tr>\n",
       "      <th>3</th>\n",
       "      <td>thursday</td>\n",
       "      <td>working</td>\n",
       "    </tr>\n",
       "    <tr>\n",
       "      <th>4</th>\n",
       "      <td>friday</td>\n",
       "      <td>working</td>\n",
       "    </tr>\n",
       "    <tr>\n",
       "      <th>5</th>\n",
       "      <td>saturday</td>\n",
       "      <td>holiday</td>\n",
       "    </tr>\n",
       "    <tr>\n",
       "      <th>6</th>\n",
       "      <td>sunday</td>\n",
       "      <td>holiday</td>\n",
       "    </tr>\n",
       "  </tbody>\n",
       "</table>\n",
       "</div>"
      ],
      "text/plain": [
       "  Name of day Type of day\n",
       "0      monday     working\n",
       "1     tuesday     working\n",
       "2    wenesday     working\n",
       "3    thursday     working\n",
       "4      friday     working\n",
       "5    saturday     holiday\n",
       "6      sunday     holiday"
      ]
     },
     "execution_count": 10,
     "metadata": {},
     "output_type": "execute_result"
    }
   ],
   "source": [
    "df = pd.DataFrame({\n",
    "    'Name of day': python_series,\n",
    "    'Type of day': ['working', 'working', 'working', 'working', 'working', 'holiday', 'holiday']\n",
    "})\n",
    "df"
   ]
  },
  {
   "cell_type": "code",
   "execution_count": null,
   "id": "1f2dbf8b-2ad6-468c-85a4-2f5e21979cc9",
   "metadata": {},
   "outputs": [],
   "source": []
  }
 ],
 "metadata": {
  "kernelspec": {
   "display_name": "Python 3 (ipykernel)",
   "language": "python",
   "name": "python3"
  },
  "language_info": {
   "codemirror_mode": {
    "name": "ipython",
    "version": 3
   },
   "file_extension": ".py",
   "mimetype": "text/x-python",
   "name": "python",
   "nbconvert_exporter": "python",
   "pygments_lexer": "ipython3",
   "version": "3.11.4"
  }
 },
 "nbformat": 4,
 "nbformat_minor": 5
}
